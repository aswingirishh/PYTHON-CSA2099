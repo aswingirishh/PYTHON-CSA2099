{
  "nbformat": 4,
  "nbformat_minor": 0,
  "metadata": {
    "colab": {
      "provenance": []
    },
    "kernelspec": {
      "name": "python3",
      "display_name": "Python 3"
    },
    "language_info": {
      "name": "python"
    }
  },
  "cells": [
    {
      "cell_type": "markdown",
      "source": [
        "##ITERATORS"
      ],
      "metadata": {
        "id": "gBNEUi_UBd2e"
      }
    },
    {
      "cell_type": "code",
      "execution_count": null,
      "metadata": {
        "id": "DeuWHGJM_83j",
        "colab": {
          "base_uri": "https://localhost:8080/"
        },
        "outputId": "61fb0ad1-263a-43b2-ce54-ff11c3d06a1e"
      },
      "outputs": [
        {
          "output_type": "stream",
          "name": "stdout",
          "text": [
            "(1, 2, 3)\n"
          ]
        }
      ],
      "source": [
        "list1 = [1, 2, 3]\n",
        "iterator = iter(list1)\n",
        "t = tuple(iterator)\n",
        "print(t)"
      ]
    },
    {
      "cell_type": "code",
      "source": [
        "list1 = [1, 2, 3]\n",
        "iterator = iter(list1)\n",
        "a, b, c = iterator\n",
        "print(a, b, c)"
      ],
      "metadata": {
        "colab": {
          "base_uri": "https://localhost:8080/"
        },
        "id": "zSDr5p28CVKt",
        "outputId": "0559f7bd-6147-4d9a-8ec6-85e8d15f7ab8"
      },
      "execution_count": null,
      "outputs": [
        {
          "output_type": "stream",
          "name": "stdout",
          "text": [
            "1 2 3\n"
          ]
        }
      ]
    },
    {
      "cell_type": "code",
      "source": [
        "month = {1: \"Jan\", 2: \"Feb\", 3: \"Mar\", 4: \"Apr\", 5: \"May\"}\n",
        "key = 5\n",
        "for key in month:\n",
        "  print(key, month[key])"
      ],
      "metadata": {
        "colab": {
          "base_uri": "https://localhost:8080/"
        },
        "id": "rcHflB6xCp1Z",
        "outputId": "87bf5a6f-1128-4c98-f567-d38d55124566"
      },
      "execution_count": null,
      "outputs": [
        {
          "output_type": "stream",
          "name": "stdout",
          "text": [
            "1 Jan\n",
            "2 Feb\n",
            "3 Mar\n",
            "4 Apr\n",
            "5 May\n"
          ]
        }
      ]
    },
    {
      "cell_type": "code",
      "source": [
        "places = [(\"Italy\", \"Rome\"), (\"France\", \"Paris\"), (\"England\", \"London\")]\n",
        "dict(iter(places))      # iter() on dict loops over the keys of the dict"
      ],
      "metadata": {
        "colab": {
          "base_uri": "https://localhost:8080/"
        },
        "id": "hQzle_3pEaCh",
        "outputId": "bf2b6e0b-9f25-497c-8004-9bfdbc481515"
      },
      "execution_count": null,
      "outputs": [
        {
          "output_type": "execute_result",
          "data": {
            "text/plain": [
              "{'Italy': 'Rome', 'France': 'Paris', 'England': 'London'}"
            ]
          },
          "metadata": {},
          "execution_count": 30
        }
      ]
    },
    {
      "cell_type": "markdown",
      "source": [
        "## List Compression and Generators"
      ],
      "metadata": {
        "id": "gcouh6l6GUJv"
      }
    },
    {
      "cell_type": "code",
      "source": [
        "set1 = \"abc\"\n",
        "set2 = (1,2,3)\n",
        "resultSet = [(x, y) for x in set1 for y in set2]\n",
        "print(resultSet)"
      ],
      "metadata": {
        "colab": {
          "base_uri": "https://localhost:8080/"
        },
        "id": "Axq_ydwfF7TS",
        "outputId": "a0bf51c8-8526-4597-9bbc-8bdf49e12bd0"
      },
      "execution_count": null,
      "outputs": [
        {
          "output_type": "stream",
          "name": "stdout",
          "text": [
            "[('a', 1), ('a', 2), ('a', 3), ('b', 1), ('b', 2), ('b', 3), ('c', 1), ('c', 2), ('c', 3)]\n"
          ]
        }
      ]
    },
    {
      "cell_type": "code",
      "source": [
        "def generate_ints(n):\n",
        "  for i in range(n):\n",
        "    yield i\n",
        "\n",
        "gen = generate_ints(3)\n",
        "next(gen)\n"
      ],
      "metadata": {
        "colab": {
          "base_uri": "https://localhost:8080/"
        },
        "id": "BnS_zsKlG7Gy",
        "outputId": "d27fa3dc-8664-4dcf-fe49-9106cdf97211"
      },
      "execution_count": null,
      "outputs": [
        {
          "output_type": "execute_result",
          "data": {
            "text/plain": [
              "0"
            ]
          },
          "metadata": {},
          "execution_count": 32
        }
      ]
    },
    {
      "cell_type": "code",
      "source": [
        "next(gen)"
      ],
      "metadata": {
        "colab": {
          "base_uri": "https://localhost:8080/"
        },
        "id": "rYK_3CUGIU6J",
        "outputId": "f8f93b84-4bb8-4922-c0d1-df16910b52fc"
      },
      "execution_count": null,
      "outputs": [
        {
          "output_type": "execute_result",
          "data": {
            "text/plain": [
              "1"
            ]
          },
          "metadata": {},
          "execution_count": 33
        }
      ]
    },
    {
      "cell_type": "code",
      "source": [
        "next(gen)"
      ],
      "metadata": {
        "colab": {
          "base_uri": "https://localhost:8080/"
        },
        "id": "5Lhv9GjkIXVB",
        "outputId": "b769a79e-c460-477e-a523-382ab179cbdd"
      },
      "execution_count": null,
      "outputs": [
        {
          "output_type": "execute_result",
          "data": {
            "text/plain": [
              "2"
            ]
          },
          "metadata": {},
          "execution_count": 34
        }
      ]
    },
    {
      "cell_type": "code",
      "source": [
        "# next(gen)  # StopIteration Error\n",
        "\n",
        "## as it as generated 3 int values"
      ],
      "metadata": {
        "id": "9wgStTU0IYSJ"
      },
      "execution_count": null,
      "outputs": []
    },
    {
      "cell_type": "code",
      "source": [],
      "metadata": {
        "id": "k-ghAoBaIZtJ"
      },
      "execution_count": null,
      "outputs": []
    }
  ]
}