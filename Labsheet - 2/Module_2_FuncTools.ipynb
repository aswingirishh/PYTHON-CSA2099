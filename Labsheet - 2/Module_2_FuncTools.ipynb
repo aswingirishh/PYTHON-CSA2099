{
  "nbformat": 4,
  "nbformat_minor": 0,
  "metadata": {
    "colab": {
      "provenance": []
    },
    "kernelspec": {
      "name": "python3",
      "display_name": "Python 3"
    },
    "language_info": {
      "name": "python"
    }
  },
  "cells": [
    {
      "cell_type": "code",
      "source": [
        "## Functools module in python helps in implementing higher-order functions.\n",
        "## Higher-order functions are dependent functions that call other functions."
      ],
      "metadata": {
        "id": "LYf8yP9gSS_K"
      },
      "execution_count": null,
      "outputs": []
    },
    {
      "cell_type": "code",
      "execution_count": null,
      "metadata": {
        "id": "mK1VPS2haB-G",
        "colab": {
          "base_uri": "https://localhost:8080/"
        },
        "outputId": "fd3b7585-1ebf-450c-f675-592d17580490"
      },
      "outputs": [
        {
          "output_type": "stream",
          "name": "stdout",
          "text": [
            "True\n"
          ]
        }
      ],
      "source": [
        "### partial(func, args)\n",
        "\n",
        "from functools import partial\n",
        "\n",
        "def isGreater(a, b):\n",
        "  return a > b\n",
        "\n",
        "ex1 = partial(isGreater, b=20)\n",
        "print(ex1(40))"
      ]
    },
    {
      "cell_type": "code",
      "source": [
        "### partialmethod - for class\n",
        "\n",
        "from functools import partialmethod\n",
        "\n",
        "class User:\n",
        "  def __init__(self):\n",
        "    self.name = \"Gary\"\n",
        "\n",
        "  def changeName(self, user_name):\n",
        "    self.name = user_name\n",
        "\n",
        "  set_user_ash = partialmethod(changeName, user_name=\"Ash\")\n",
        "  set_user_brock = partialmethod(changeName, user_name=\"Brock\")\n",
        "\n",
        "obj = User()\n",
        "print(obj.name)\n",
        "\n",
        "obj.set_user_ash()\n",
        "print(obj.name)\n",
        "\n",
        "obj.set_user_brock()\n",
        "print(obj.name)"
      ],
      "metadata": {
        "colab": {
          "base_uri": "https://localhost:8080/"
        },
        "id": "9yDrTdxUzb41",
        "outputId": "d84c3b41-1e28-4fae-9806-4e3c6b1bce48"
      },
      "execution_count": null,
      "outputs": [
        {
          "output_type": "stream",
          "name": "stdout",
          "text": [
            "Gary\n",
            "Ash\n",
            "Brock\n"
          ]
        }
      ]
    },
    {
      "cell_type": "code",
      "source": [
        "## cmp_to_key(cmp_func)\n",
        "\n",
        "from functools import cmp_to_key\n",
        "\n",
        "def mycmp(a, b):\n",
        "  if a > b:\n",
        "    return 1\n",
        "  elif a < b:\n",
        "    return -1\n",
        "  else:\n",
        "    return 0\n",
        "\n",
        "numList = [3, 4, 1, 2, 5]\n",
        "print(sorted(numList, key = cmp_to_key(mycmp)))    ## seriously dont know how does this work"
      ],
      "metadata": {
        "colab": {
          "base_uri": "https://localhost:8080/"
        },
        "id": "VvL4twry4ygB",
        "outputId": "6e2b5b8d-808b-43ad-f112-f85ed8856560"
      },
      "execution_count": null,
      "outputs": [
        {
          "output_type": "stream",
          "name": "stdout",
          "text": [
            "[1, 2, 3, 4, 5]\n"
          ]
        }
      ]
    },
    {
      "cell_type": "code",
      "source": [
        "## reduce(func, list)  - reduces the output to a single value\n",
        "\n",
        "from functools import reduce\n",
        "\n",
        "newList = [1, 2, 3, 4, 5]\n",
        "reduce(lambda x, y: x+y, newList)"
      ],
      "metadata": {
        "colab": {
          "base_uri": "https://localhost:8080/"
        },
        "id": "45bJmCJCMr-n",
        "outputId": "9aa592d8-4b0a-42f1-f82a-3c0b9037554c"
      },
      "execution_count": null,
      "outputs": [
        {
          "output_type": "execute_result",
          "data": {
            "text/plain": [
              "15"
            ]
          },
          "metadata": {},
          "execution_count": 32
        }
      ]
    },
    {
      "cell_type": "code",
      "source": [
        "## total_ordering\n",
        "\n",
        "from functools import total_ordering\n",
        "\n",
        "class Student:\n",
        "  def __init__(self, cgpa):\n",
        "    self.cgpa = cgpa\n",
        "\n",
        "  def __lt__(self, other):\n",
        "    return self.cgpa < other.cgpa\n",
        "\n",
        "  def __gt__(self, other):\n",
        "    return self.cgpa > other.cgpa\n",
        "\n",
        "  def __le__(self, other):\n",
        "    return self.cgpa <= other.cgpa\n",
        "\n",
        "  def __ge__(self, other):\n",
        "    return self.cgpa >= other.cgpa\n",
        "\n",
        "  def __eq__(self, other):\n",
        "    return self.cgpa == other.cgpa\n",
        "\n",
        "  def __ne__(self, other):\n",
        "    return self.cgpa != other.cgpa\n",
        "\n",
        "\n",
        "student1 = Student(9.01)\n",
        "student2 = Student(9.45)\n",
        "\n",
        "print(student1.__lt__(student2))\n",
        "print(student1.__gt__(student2))\n",
        "print(student1.__ge__(student2))\n",
        "print(student1.__le__(student2))\n",
        "print(student1.__eq__(student2))\n",
        "print(student1.__ne__(student2))"
      ],
      "metadata": {
        "colab": {
          "base_uri": "https://localhost:8080/"
        },
        "id": "0mDGcy8wQAPh",
        "outputId": "825c0626-8500-46d1-bdb5-e4e1b49f0092"
      },
      "execution_count": null,
      "outputs": [
        {
          "output_type": "stream",
          "name": "stdout",
          "text": [
            "True\n",
            "False\n",
            "False\n",
            "True\n",
            "False\n",
            "True\n"
          ]
        }
      ]
    },
    {
      "cell_type": "markdown",
      "source": [
        "# ***asyncio in Python***\n",
        "\n",
        "***Asyncio is a Python library that is used for concurrent programming. It is not multi-threading or multi-processing. Asyncio is used as a foundation for multiple Python asynchronous frameworks that provide high-performance network and web servers, database connection libraries, distributed task queues, etc.***"
      ],
      "metadata": {
        "id": "d-l_EAUw0o01"
      }
    },
    {
      "cell_type": "markdown",
      "source": [
        "***Difference between Asynchronous and multi-threading programming ***\n",
        "\n",
        "**Asynchronous programming basically means that only one part of a program will run at a certain time.**\n",
        "\n",
        "For example, suppose we have 3 functions defined in our Python program. Consider a situation when fn1() is not doing anything, it is either asleep or just waiting or has returned a value (done its work).\n",
        "So, to save the CPU time, the other function (fn2()) will start executing and then only the third function (fn3()) will execute. This is the concept of Asynchronous programming (one thing is done at one time)\n",
        "\n",
        "***whereas, in multi-threading or multi-processing, all these three functions will run at the same time, they won’t wait for the previous function to finish or sleep***.\n",
        "\n",
        "Note that only specific functions are made asynchronous, not the whole program this is done with the help of the Asyncio Python library."
      ],
      "metadata": {
        "id": "7ldBjXN90w8y"
      }
    },
    {
      "cell_type": "markdown",
      "source": [
        "To achieve this, an async keyword is used.\n",
        "\n",
        "The program will wait for 1 second after it the first print statement is executed and then print the next print statement and so on.\n",
        "\n",
        "Note that we’ll make it sleep (or wait) with the help of await asyncio.sleep(1) keyword, not with time.sleep().\n",
        "\n",
        " To run the program, we’ll have to use the run() function as it is given below."
      ],
      "metadata": {
        "id": "5CBLaQJu01K3"
      }
    },
    {
      "cell_type": "code",
      "source": [],
      "metadata": {
        "id": "WjlCNo9mUMJY"
      },
      "execution_count": null,
      "outputs": []
    }
  ]
}